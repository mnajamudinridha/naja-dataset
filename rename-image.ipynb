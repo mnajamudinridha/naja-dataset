{
 "cells": [
  {
   "cell_type": "code",
   "execution_count": 13,
   "metadata": {},
   "outputs": [],
   "source": [
    "import os\n",
    "import glob\n",
    "import cv2\n",
    "\n",
    "\n",
    "searchedfile = glob.glob('./non-hijab3/*')\n",
    "#sorting image berdasarkan tanggal\n",
    "searchedfile.sort(key=os.path.getmtime)\n",
    "\n",
    "nomor = 5456\n",
    "\n",
    "for filename in searchedfile:\n",
    "    im = cv2.imread(filename)\n",
    "    nomor = nomor + 1\n",
    "    FaceFileName = \"./dataset-nonhijab/nonhijab.\" + (\"%04g\" % (nomor)) +\".jpg\"\n",
    "    cv2.imwrite(FaceFileName, im)"
   ]
  }
 ],
 "metadata": {
  "kernelspec": {
   "display_name": "Python 3.5 By Naja",
   "language": "python",
   "name": "naja-python35"
  },
  "language_info": {
   "codemirror_mode": {
    "name": "ipython",
    "version": 3
   },
   "file_extension": ".py",
   "mimetype": "text/x-python",
   "name": "python",
   "nbconvert_exporter": "python",
   "pygments_lexer": "ipython3",
   "version": "3.5.4"
  }
 },
 "nbformat": 4,
 "nbformat_minor": 2
}
